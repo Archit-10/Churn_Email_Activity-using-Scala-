{
 "cells": [
  {
   "cell_type": "code",
   "execution_count": 7,
   "metadata": {},
   "outputs": [
    {
     "data": {
      "text/plain": [
       "number_of_lines: ()Int\n"
      ]
     },
     "metadata": {},
     "output_type": "display_data"
    }
   ],
   "source": [
    "import scala.io.Source\n",
    "def number_of_lines():Int={\n",
    "    var count:Int=0\n",
    "    val filename= \"/cxldata/datasets/project/mbox-short.txt\"\n",
    "    for(line<-Source.fromFile(\"/cxldata/datasets/project/mbox-short.txt\").getLines){\n",
    "        count=count+1\n",
    "    }\n",
    "    return count\n",
    "}"
   ]
  },
  {
   "cell_type": "code",
   "execution_count": 8,
   "metadata": {},
   "outputs": [
    {
     "data": {
      "text/plain": [
       "1910"
      ]
     },
     "execution_count": 8,
     "metadata": {},
     "output_type": "execute_result"
    }
   ],
   "source": [
    "number_of_lines()"
   ]
  },
  {
   "cell_type": "code",
   "execution_count": 11,
   "metadata": {},
   "outputs": [
    {
     "data": {
      "text/plain": [
       "count_subject_lines: ()Int\n"
      ]
     },
     "metadata": {},
     "output_type": "display_data"
    }
   ],
   "source": [
    "import scala.io.Source\n",
    "def count_subject_lines():Int={\n",
    "    var count:Int=0;\n",
    "    val filename=\"/cxldata/datasets/project/mbox-short.txt\";\n",
    "    for(line<-Source.fromFile(\"/cxldata/datasets/project/mbox-short.txt\").getLines){\n",
    "        if(line.startsWith(\"Subject:\")){\n",
    "            count=count+1;\n",
    "        }\n",
    "    }\n",
    "    return count;\n",
    "}"
   ]
  },
  {
   "cell_type": "code",
   "execution_count": 12,
   "metadata": {},
   "outputs": [
    {
     "data": {
      "text/plain": [
       "27"
      ]
     },
     "execution_count": 12,
     "metadata": {},
     "output_type": "execute_result"
    }
   ],
   "source": [
    "count_subject_lines()"
   ]
  },
  {
   "cell_type": "code",
   "execution_count": 24,
   "metadata": {},
   "outputs": [
    {
     "data": {
      "text/plain": [
       "average_spam_confidence: ()Float\n"
      ]
     },
     "metadata": {},
     "output_type": "display_data"
    }
   ],
   "source": [
    "def average_spam_confidence():Float={\n",
    "    var count:Int=0\n",
    "    var spam_cnf:Float=0\n",
    "    val filename=\"/cxldata/datasets/project/mbox-short.txt\"\n",
    "    for(line<-Source.fromFile(\"/cxldata/datasets/project/mbox-short.txt\").getLines){\n",
    "        if(line.startsWith(\"X-DSPAM-Confidence:\")){\n",
    "           var splitted_content=line.split(\":\")\n",
    "            spam_cnf=spam_cnf + (splitted_content(1).toFloat)\n",
    "            count=count+1\n",
    "        }\n",
    "    }\n",
    "    return spam_cnf/count\n",
    "}\n"
   ]
  },
  {
   "cell_type": "code",
   "execution_count": 25,
   "metadata": {},
   "outputs": [
    {
     "data": {
      "text/plain": [
       "0.7507186"
      ]
     },
     "execution_count": 25,
     "metadata": {},
     "output_type": "execute_result"
    }
   ],
   "source": [
    "average_spam_confidence()"
   ]
  },
  {
   "cell_type": "code",
   "execution_count": 26,
   "metadata": {},
   "outputs": [
    {
     "data": {
      "text/plain": [
       "find_email_sent_days: ()scala.collection.mutable.Map[String,Int]\n"
      ]
     },
     "metadata": {},
     "output_type": "display_data"
    }
   ],
   "source": [
    "import scala.collection.mutable.Map\n",
    "def find_email_sent_days():Map[String,Int]={\n",
    "    var dayMap:Map[String,Int]=Map()\n",
    "   val filename=\"/cxldata/datasets/project/mbox-short.txt\" \n",
    "    var day=\"\"\n",
    "    \n",
    "    for(line<-Source.fromFile(\"/cxldata/datasets/project/mbox-short.txt\").getLines){\n",
    "        if(line.startsWith(\"From\")){\n",
    "            var split_content=line.split(\" \")\n",
    "            if(split_content.size>2){\n",
    "                day=split_content(2)\n",
    "                if(dayMap.contains(day)){\n",
    "                    dayMap(day)+=1\n",
    "                }\n",
    "                else{\n",
    "                    dayMap(day)=1\n",
    "                }\n",
    "            }\n",
    "        }\n",
    "    }\n",
    "    return dayMap\n",
    "}"
   ]
  },
  {
   "cell_type": "code",
   "execution_count": 27,
   "metadata": {},
   "outputs": [
    {
     "data": {
      "text/plain": [
       "Map(Thu -> 6, Fri -> 20, Sat -> 1)"
      ]
     },
     "execution_count": 27,
     "metadata": {},
     "output_type": "execute_result"
    }
   ],
   "source": [
    "find_email_sent_days()"
   ]
  },
  {
   "cell_type": "code",
   "execution_count": 2,
   "metadata": {},
   "outputs": [
    {
     "data": {
      "text/plain": [
       "count_message_from_email: scala.collection.mutable.Map[String,Int]\n"
      ]
     },
     "metadata": {},
     "output_type": "display_data"
    }
   ],
   "source": [
    "import scala.io.Source\n",
    "import scala.collection.mutable.Map\n",
    "def count_message_from_email:Map[String,Int]={\n",
    "    var eidMap:Map[String,Int]=Map()\n",
    "    val filename=\"/cxldata/datasets/project/mbox-short.txt\" \n",
    "    var emailid=\"\"\n",
    "    for(line<-Source.fromFile(\"/cxldata/datasets/project/mbox-short.txt\").getLines){\n",
    "        if(line.startsWith(\"From:\")){\n",
    "            var split=line.split(\" \")\n",
    "            emailid=split(1)\n",
    "            if(eidMap.contains(emailid)){\n",
    "                eidMap(emailid)+=1\n",
    "            }\n",
    "            else{\n",
    "                eidMap(emailid)=1\n",
    "            }\n",
    "        }\n",
    "    }\n",
    "    return(eidMap)\n",
    "    \n",
    "}"
   ]
  },
  {
   "cell_type": "code",
   "execution_count": 3,
   "metadata": {},
   "outputs": [
    {
     "data": {
      "text/plain": [
       "Map(zqian@umich.edu -> 4, rjlowe@iupui.edu -> 2, stephen.marquard@uct.ac.za -> 2, louis@media.berkeley.edu -> 3, gopal.ramasammycook@gmail.com -> 1, gsilver@umich.edu -> 3, david.horwitz@uct.ac.za -> 4, ray@media.berkeley.edu -> 1, antranig@caret.cam.ac.uk -> 1, wagnermr@iupui.edu -> 1, cwen@iupui.edu -> 5)"
      ]
     },
     "execution_count": 3,
     "metadata": {},
     "output_type": "execute_result"
    }
   ],
   "source": [
    "count_message_from_email"
   ]
  },
  {
   "cell_type": "code",
   "execution_count": 13,
   "metadata": {},
   "outputs": [
    {
     "data": {
      "text/plain": [
       "count_message_from_domain: scala.collection.mutable.Map[String,Int]\n"
      ]
     },
     "metadata": {},
     "output_type": "display_data"
    }
   ],
   "source": [
    "\n",
    "def count_message_from_domain:Map[String,Int]={\n",
    "    var doMap:Map[String,Int]=Map()\n",
    "    val filename=\"/cxldata/datasets/project/mbox-short.txt\" \n",
    "    var domain=\"\"\n",
    "    for(line<-Source.fromFile(\"/cxldata/datasets/project/mbox-short.txt\").getLines){\n",
    "        if(line.startsWith(\"From:\")){\n",
    "            var splitted =line.split(\"@\")\n",
    "            domain=splitted(1)\n",
    "            if(doMap.contains(domain)){\n",
    "                doMap(domain)+=1\n",
    "            }\n",
    "            else{\n",
    "                doMap(domain)=1\n",
    "            }\n",
    "        }\n",
    "    }\n",
    "    return(doMap)\n",
    "}"
   ]
  },
  {
   "cell_type": "code",
   "execution_count": 14,
   "metadata": {},
   "outputs": [
    {
     "data": {
      "text/plain": [
       "Map(umich.edu -> 7, media.berkeley.edu -> 4, caret.cam.ac.uk -> 1, uct.ac.za -> 6, iupui.edu -> 8, gmail.com -> 1)"
      ]
     },
     "execution_count": 14,
     "metadata": {},
     "output_type": "execute_result"
    }
   ],
   "source": [
    "count_message_from_domain"
   ]
  },
  {
   "cell_type": "code",
   "execution_count": null,
   "metadata": {},
   "outputs": [],
   "source": []
  }
 ],
 "metadata": {
  "kernelspec": {
   "display_name": "Apache Toree - Scala",
   "language": "scala",
   "name": "apache_toree_scala"
  },
  "language_info": {
   "codemirror_mode": "text/x-scala",
   "file_extension": ".scala",
   "mimetype": "text/x-scala",
   "name": "scala",
   "pygments_lexer": "scala",
   "version": "2.11.8"
  },
  "toc": {
   "base_numbering": 1,
   "nav_menu": {},
   "number_sections": true,
   "sideBar": true,
   "skip_h1_title": false,
   "title_cell": "Table of Contents",
   "title_sidebar": "Contents",
   "toc_cell": false,
   "toc_position": {},
   "toc_section_display": true,
   "toc_window_display": false
  }
 },
 "nbformat": 4,
 "nbformat_minor": 2
}
